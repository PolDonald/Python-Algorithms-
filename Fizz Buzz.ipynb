{
 "cells": [
  {
   "cell_type": "code",
   "execution_count": 2,
   "metadata": {},
   "outputs": [
    {
     "name": "stdout",
     "output_type": "stream",
     "text": [
      "1\n"
     ]
    }
   ],
   "source": [
    "greeting = 1\n",
    "print(greeting)"
   ]
  },
  {
   "cell_type": "code",
   "execution_count": 28,
   "metadata": {},
   "outputs": [
    {
     "name": "stdout",
     "output_type": "stream",
     "text": [
      "the number is 0\n",
      "the number is 1\n",
      "the number is 2\n",
      "the number is 3\n",
      "the number is 4\n",
      "the number is 5\n",
      "the number is 6\n",
      "the number is 7\n",
      "the number is 8\n",
      "the number is 9\n",
      "the number is 10\n"
     ]
    }
   ],
   "source": [
    "for i in range(0,11):\n",
    "    print('the number is '+ str(i)) "
   ]
  },
  {
   "cell_type": "code",
   "execution_count": 8,
   "metadata": {},
   "outputs": [
    {
     "name": "stdout",
     "output_type": "stream",
     "text": [
      "0\n",
      "1\n",
      "2\n",
      "3\n",
      "4\n",
      "5\n",
      "6\n",
      "7\n",
      "8\n",
      "9\n",
      "10\n",
      "11\n"
     ]
    }
   ],
   "source": [
    "limit = 0\n",
    "while (limit < 12):\n",
    "    print(limit)\n",
    "    limit = limit + 1"
   ]
  },
  {
   "cell_type": "code",
   "execution_count": 9,
   "metadata": {},
   "outputs": [
    {
     "name": "stdout",
     "output_type": "stream",
     "text": [
      "2\n"
     ]
    }
   ],
   "source": [
    "print(5%3)"
   ]
  },
  {
   "cell_type": "code",
   "execution_count": 25,
   "metadata": {},
   "outputs": [
    {
     "name": "stdout",
     "output_type": "stream",
     "text": [
      "the number is 1\n",
      "the number is 2\n",
      "Fizz\n",
      "the number is 4\n",
      "Buzz\n",
      "Fizz\n",
      "the number is 7\n",
      "the number is 8\n",
      "Fizz\n",
      "Buzz\n",
      "the number is 11\n",
      "Fizz\n",
      "the number is 13\n",
      "the number is 14\n",
      "Fizz\n",
      "FizzBuzz\n",
      "the number is 16\n",
      "the number is 17\n",
      "Fizz\n",
      "the number is 19\n",
      "Buzz\n"
     ]
    }
   ],
   "source": [
    "for i in range(1,21):\n",
    "    if i==3 or i==6 or i==9 or i==12 or i==15 or i==18:\n",
    "        print(\"Fizz\")\n",
    "    elif i==5 or i==10 or i==15 or i==18 or i==20:\n",
    "        print(\"Buzz\")\n",
    "    else:\n",
    "        print('the number is '+ str(i))\n",
    "    if i==15:\n",
    "        print(\"FizzBuzz\")\n",
    "\n",
    "\n",
    "\n",
    "    \n",
    "    \n",
    "        \n",
    "    "
   ]
  },
  {
   "cell_type": "code",
   "execution_count": 34,
   "metadata": {},
   "outputs": [
    {
     "name": "stdout",
     "output_type": "stream",
     "text": [
      "the number is 1\n",
      "the number is 2\n",
      "Fizz\n",
      "the number is 4\n",
      "Buzz\n",
      "Fizz\n",
      "the number is 7\n",
      "the number is 8\n",
      "Fizz\n",
      "Buzz\n",
      "the number is 11\n",
      "Fizz\n",
      "the number is 13\n",
      "the number is 14\n",
      "FizzBuzz\n",
      "the number is 16\n",
      "the number is 17\n",
      "Fizz\n",
      "the number is 19\n",
      "Buzz\n",
      "Fizz\n",
      "the number is 22\n",
      "the number is 23\n",
      "Fizz\n",
      "Buzz\n",
      "the number is 26\n",
      "Fizz\n",
      "the number is 28\n",
      "the number is 29\n",
      "FizzBuzz\n",
      "the number is 31\n",
      "the number is 32\n",
      "Fizz\n",
      "the number is 34\n",
      "Buzz\n",
      "Fizz\n",
      "the number is 37\n",
      "the number is 38\n",
      "Fizz\n",
      "Buzz\n",
      "the number is 41\n",
      "Fizz\n",
      "the number is 43\n",
      "the number is 44\n",
      "FizzBuzz\n",
      "the number is 46\n",
      "the number is 47\n",
      "Fizz\n",
      "the number is 49\n",
      "Buzz\n",
      "Fizz\n",
      "the number is 52\n",
      "the number is 53\n",
      "Fizz\n",
      "Buzz\n",
      "the number is 56\n",
      "Fizz\n",
      "the number is 58\n",
      "the number is 59\n",
      "FizzBuzz\n",
      "the number is 61\n",
      "the number is 62\n",
      "Fizz\n",
      "the number is 64\n",
      "Buzz\n",
      "Fizz\n",
      "the number is 67\n",
      "the number is 68\n",
      "Fizz\n",
      "Buzz\n",
      "the number is 71\n",
      "Fizz\n",
      "the number is 73\n",
      "the number is 74\n",
      "FizzBuzz\n",
      "the number is 76\n",
      "the number is 77\n",
      "Fizz\n",
      "the number is 79\n",
      "Buzz\n",
      "Fizz\n",
      "the number is 82\n",
      "the number is 83\n",
      "Fizz\n",
      "Buzz\n",
      "the number is 86\n",
      "Fizz\n",
      "the number is 88\n",
      "the number is 89\n",
      "FizzBuzz\n",
      "the number is 91\n",
      "the number is 92\n",
      "Fizz\n",
      "the number is 94\n",
      "Buzz\n",
      "Fizz\n",
      "the number is 97\n",
      "the number is 98\n",
      "Fizz\n",
      "Buzz\n"
     ]
    }
   ],
   "source": [
    "for i in range(1,101):\n",
    "    if (i%3==0) and (i%5==0):\n",
    "        print(\"FizzBuzz\")\n",
    "    elif (i%3==0):\n",
    "        print(\"Fizz\")\n",
    "    elif (i%5==0):\n",
    "        print(\"Buzz\")\n",
    "    else:\n",
    "        print('the number is '+ str(i))\n",
    "    "
   ]
  },
  {
   "cell_type": "code",
   "execution_count": null,
   "metadata": {},
   "outputs": [],
   "source": []
  }
 ],
 "metadata": {
  "kernelspec": {
   "display_name": "Python 3",
   "language": "python",
   "name": "python3"
  },
  "language_info": {
   "codemirror_mode": {
    "name": "ipython",
    "version": 3
   },
   "file_extension": ".py",
   "mimetype": "text/x-python",
   "name": "python",
   "nbconvert_exporter": "python",
   "pygments_lexer": "ipython3",
   "version": "3.8.0"
  }
 },
 "nbformat": 4,
 "nbformat_minor": 2
}
